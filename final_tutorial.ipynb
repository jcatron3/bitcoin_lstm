{
 "metadata": {
  "language_info": {
   "codemirror_mode": {
    "name": "ipython",
    "version": 3
   },
   "file_extension": ".py",
   "mimetype": "text/x-python",
   "name": "python",
   "nbconvert_exporter": "python",
   "pygments_lexer": "ipython3",
   "version": "3.8.5"
  },
  "orig_nbformat": 2,
  "kernelspec": {
   "name": "python385jvsc74a57bd098b0a9b7b4eaaa670588a142fd0a9b87eaafe866f1db4228be72b4211d12040f",
   "display_name": "Python 3.8.5 64-bit ('base': conda)"
  }
 },
 "nbformat": 4,
 "nbformat_minor": 2,
 "cells": [
  {
   "source": [
    "# Bitcoin Price Prediction Tutorial\n",
    "\n",
    "### by Jake Catron\n",
    "***\n",
    "\n",
    "In this article I will be walking you through the process of using Long Short-Term Memory (LSTM) to predict the price of the cryptocurrency Bitcoin (BTC)."
   ],
   "cell_type": "markdown",
   "metadata": {}
  },
  {
   "source": [
    "\n",
    "## What is Bitcoin?\n",
    "\n",
    "Bitcoin is the world's most popular and valuable cryptocurrency. Considering my grandfather once asked me about it, it is likely that you have heard of it as well. But, you may still not understand what it fundamentally is. \n",
    "\n",
    "Wikipedia provides the following definition: \"Bitcoin is a digital assest designed to work as a medium of exhange that uses **cryptography** to control its creation and management, rather than relying on central authorities.\"\n",
    "\n",
    "## Crypto-what??\n",
    "\n",
    "Before we dive into Bitcoin, let's first explore cryptography to understand the basis. \"Cryptography\" comes from the Greek word *kryptos* (secret) and *graphein* (to write). So it is the practice of writing secret messages. How does one accomplish this secrecy in the modern world? We use **encryption algorithms** to convert plaintext into unitelligible nonsense known as a **hash**. Think about the food kind of hash, it is a jumbled mixture of many ingredients. In the same sense, a encrpytion hash is a jumbled mixture of letters and numbers. The goal of all encryption algorithms is to increase the **computational time** required to convert the hashes created back into plain text. This is the key takeaway here. Modern encrpytion algorithms create complex hashes that take *enormous* amounts of computational time and electricity to map back to the original value. \n",
    "\n",
    "## Soo, what is Bitcoin?\n",
    "\n",
    "Well Bitcoin is founded on a principle called the **block-chain**. Think of every block as a page in a book. The page contains a bunch of information that we can use to make conclusions about the other pages in the book, and it also has a unique number. This number only appears once in the entire book! Let's call the number the **nonce** (\"number only used once\"). So each page in the book has information on it as well as its own nonce that leads to the next page directly after it. \n",
    "\n",
    "If we wanted, we could call a book a *page-chain* (see what I did there?). But the difference between the block-chain and the page-chain is that in a block-chain, each block's nonce (page number) is unknown at first. Imagine instead of our pages containing words and sentences in our natural language, someone used an encryption algorithm to mix up everything into a secret mess(age) of letters and numbers! Essentially this is what happens to each block in the block-chain. The creator of Bitcoin (Satoshi Nakamoto) encrypted the phrase \"The Times 03/Jan/2009 Chancellor on brink of second bailout for banks\" into the hash \"000000000019d6689c085ae165831e934ff763ae46a2a6c172b3f1b60a8ce26f\". This along with a **nonce** of 2083236893 and some other information such as the **signature** and **public key** formed the very first block in the block-chain of Bitcoin. \n",
    "\n",
    "Instead of simply turning the page, for a new block to be added to the chain someone with a lot of brains and computational power has to increment the nonce until it hashes to a hex number with a certain amount of leading 0 bits (look at the hash of the first block above). Once that threshold of 0 bits is reached, the **miner** of the block is awarded a certain amount of coin for their efforts. Then this newly formed block passes on its solved hash to everyone in the network, so they can start mining the next block into existence. \n",
    "\n",
    "## Bitcoin's Controlled Supply\n",
    "\n",
    "Bitcoin was designed in a way that the difficulty of mining a new block (achieving the correct nonce) is adjusted every 2016 blocks mined. The difficulty is adjusted so that the rate of mining is roughly 6 blocks per hour. This adjustment is to account for advancements in computing power and speed. \n",
    "\n",
    "Also, the amount of coins awarded to a successful miner is cut in half every time 210,000 new blocks are mined and added to the chain. However once the 32 halvings occur, the suppy supply of Bitcoin is finite and unchangeable. Since the intial block awarded 50 Bitcoin, it follows that Bitcoin's *supply curve* will stop once reaching to a value juuust under 21 million.\n",
    "\n",
    "## Bitcoin as a Speculative Asset\n",
    "\n",
    "Now you can atleast walk away from reading this knowing a bit more about the fundamentals of the famous Bitcoin. However the true purpose of this tutorial is to try to forecast the price of Bitcoin using hihg-frequency price and volume data. \n",
    "\n",
    "Why would we want to do that? Well since Bitcoin has gained popularity, it has transitioned from becoming just a currency to becoming an asset that investors can speculate the price of, hoping to turn a profit in a quick-turnaround. \n",
    "\n",
    "The extreme volatility of the price of Bitcoin as well as the fact that it is available to trade 24/7 as opposed to normal securities has made it the target of many hight-frequency traders.\n",
    "\n",
    "While I believe wholeheartedly in the altruistic goal Nakamoto had in mind, I am also a greedy human. Thus I will be using historical pricing and volume data to try to predict the future! Sounds fancy right? \n",
    "\n",
    "***\n",
    "**Note**: There are many other aspects of the block-chain which I did not touch on here, see [Satoshi's paper](https://bitcoin.org/bitcoin.pdf) for further reading.\n",
    "\n",
    "\n",
    "\n"
   ],
   "cell_type": "markdown",
   "metadata": {}
  },
  {
   "source": [
    "\n",
    "## Methodology\n",
    "\n",
    "So how will we accomplish this goal? By using deep learning *magic hands*. Every Data Scientist's favorite buzzword, deep learning decribes a subset of Machine Learning techniques that use deep neural networks to solve problems. Neural networks got their name after being structured similarly to the nuerons firing in our brains. Essentially think of each neuron taking in some data as input, performing a calculation/transformation on the data, and then passing it on to the rest of the neurons so they can collectively produce an output. \n"
   ],
   "cell_type": "markdown",
   "metadata": {}
  },
  {
   "cell_type": "code",
   "execution_count": 2,
   "metadata": {},
   "outputs": [],
   "source": [
    "# Importing libraries\n",
    "import pandas as pd\n",
    "import numpy as np\n",
    "import matplotlib.pyplot as plt\n",
    "import seaborn as sns\n",
    "import tensorflow as tf\n",
    "import sklearn\n",
    "import autokeras as ak"
   ]
  },
  {
   "source": [
    "## Collecting Data\n",
    "\n",
    "In this tutorial we will be using high frequency (1-minute interval) price and volume data to forecast Bitcoin's price in n minutes. The only free source of 1-minute interval data I could find was from [Kaggle](https://www.kaggle.com/mczielinski/bitcoin-historical-data), where I was able to download Bitcoin's minutely OHLCV data from Jan 01, 2012 to March 31, 2021.\n",
    "\n",
    "Let's load that data into a pandas DataFrame and take a look at the first and last 5 rows. "
   ],
   "cell_type": "markdown",
   "metadata": {}
  },
  {
   "cell_type": "code",
   "execution_count": 4,
   "metadata": {},
   "outputs": [
    {
     "output_type": "execute_result",
     "data": {
      "text/plain": [
       "          Timestamp      Open      High       Low     Close  Volume_(BTC)  \\\n",
       "0        1325317920      4.39      4.39      4.39      4.39      0.455581   \n",
       "1        1325317980       NaN       NaN       NaN       NaN           NaN   \n",
       "2        1325318040       NaN       NaN       NaN       NaN           NaN   \n",
       "3        1325318100       NaN       NaN       NaN       NaN           NaN   \n",
       "4        1325318160       NaN       NaN       NaN       NaN           NaN   \n",
       "...             ...       ...       ...       ...       ...           ...   \n",
       "4857372  1617148560  58714.31  58714.31  58686.00  58686.00      1.384487   \n",
       "4857373  1617148620  58683.97  58693.43  58683.97  58685.81      7.294848   \n",
       "4857374  1617148680  58693.43  58723.84  58693.43  58723.84      1.705682   \n",
       "4857375  1617148740  58742.18  58770.38  58742.18  58760.59      0.720415   \n",
       "4857376  1617148800  58767.75  58778.18  58755.97  58778.18      2.712831   \n",
       "\n",
       "         Volume_(Currency)  Weighted_Price  \n",
       "0                 2.000000        4.390000  \n",
       "1                      NaN             NaN  \n",
       "2                      NaN             NaN  \n",
       "3                      NaN             NaN  \n",
       "4                      NaN             NaN  \n",
       "...                    ...             ...  \n",
       "4857372       81259.372187    58692.753339  \n",
       "4857373      428158.146640    58693.226508  \n",
       "4857374      100117.070370    58696.198496  \n",
       "4857375       42332.958633    58761.866202  \n",
       "4857376      159417.751000    58764.349363  \n",
       "\n",
       "[4857377 rows x 8 columns]"
      ],
      "text/html": "<div>\n<style scoped>\n    .dataframe tbody tr th:only-of-type {\n        vertical-align: middle;\n    }\n\n    .dataframe tbody tr th {\n        vertical-align: top;\n    }\n\n    .dataframe thead th {\n        text-align: right;\n    }\n</style>\n<table border=\"1\" class=\"dataframe\">\n  <thead>\n    <tr style=\"text-align: right;\">\n      <th></th>\n      <th>Timestamp</th>\n      <th>Open</th>\n      <th>High</th>\n      <th>Low</th>\n      <th>Close</th>\n      <th>Volume_(BTC)</th>\n      <th>Volume_(Currency)</th>\n      <th>Weighted_Price</th>\n    </tr>\n  </thead>\n  <tbody>\n    <tr>\n      <th>0</th>\n      <td>1325317920</td>\n      <td>4.39</td>\n      <td>4.39</td>\n      <td>4.39</td>\n      <td>4.39</td>\n      <td>0.455581</td>\n      <td>2.000000</td>\n      <td>4.390000</td>\n    </tr>\n    <tr>\n      <th>1</th>\n      <td>1325317980</td>\n      <td>NaN</td>\n      <td>NaN</td>\n      <td>NaN</td>\n      <td>NaN</td>\n      <td>NaN</td>\n      <td>NaN</td>\n      <td>NaN</td>\n    </tr>\n    <tr>\n      <th>2</th>\n      <td>1325318040</td>\n      <td>NaN</td>\n      <td>NaN</td>\n      <td>NaN</td>\n      <td>NaN</td>\n      <td>NaN</td>\n      <td>NaN</td>\n      <td>NaN</td>\n    </tr>\n    <tr>\n      <th>3</th>\n      <td>1325318100</td>\n      <td>NaN</td>\n      <td>NaN</td>\n      <td>NaN</td>\n      <td>NaN</td>\n      <td>NaN</td>\n      <td>NaN</td>\n      <td>NaN</td>\n    </tr>\n    <tr>\n      <th>4</th>\n      <td>1325318160</td>\n      <td>NaN</td>\n      <td>NaN</td>\n      <td>NaN</td>\n      <td>NaN</td>\n      <td>NaN</td>\n      <td>NaN</td>\n      <td>NaN</td>\n    </tr>\n    <tr>\n      <th>...</th>\n      <td>...</td>\n      <td>...</td>\n      <td>...</td>\n      <td>...</td>\n      <td>...</td>\n      <td>...</td>\n      <td>...</td>\n      <td>...</td>\n    </tr>\n    <tr>\n      <th>4857372</th>\n      <td>1617148560</td>\n      <td>58714.31</td>\n      <td>58714.31</td>\n      <td>58686.00</td>\n      <td>58686.00</td>\n      <td>1.384487</td>\n      <td>81259.372187</td>\n      <td>58692.753339</td>\n    </tr>\n    <tr>\n      <th>4857373</th>\n      <td>1617148620</td>\n      <td>58683.97</td>\n      <td>58693.43</td>\n      <td>58683.97</td>\n      <td>58685.81</td>\n      <td>7.294848</td>\n      <td>428158.146640</td>\n      <td>58693.226508</td>\n    </tr>\n    <tr>\n      <th>4857374</th>\n      <td>1617148680</td>\n      <td>58693.43</td>\n      <td>58723.84</td>\n      <td>58693.43</td>\n      <td>58723.84</td>\n      <td>1.705682</td>\n      <td>100117.070370</td>\n      <td>58696.198496</td>\n    </tr>\n    <tr>\n      <th>4857375</th>\n      <td>1617148740</td>\n      <td>58742.18</td>\n      <td>58770.38</td>\n      <td>58742.18</td>\n      <td>58760.59</td>\n      <td>0.720415</td>\n      <td>42332.958633</td>\n      <td>58761.866202</td>\n    </tr>\n    <tr>\n      <th>4857376</th>\n      <td>1617148800</td>\n      <td>58767.75</td>\n      <td>58778.18</td>\n      <td>58755.97</td>\n      <td>58778.18</td>\n      <td>2.712831</td>\n      <td>159417.751000</td>\n      <td>58764.349363</td>\n    </tr>\n  </tbody>\n</table>\n<p>4857377 rows × 8 columns</p>\n</div>"
     },
     "metadata": {},
     "execution_count": 4
    }
   ],
   "source": [
    "# Loading DataFrame\n",
    "btc_1min_df = pd.read_csv('bitstampUSD_1-min_data_2012-01-01_to_2021-03-31.csv')\n",
    "# Displaying first and last 5 rows as well as column names\n",
    "btc_1min_df"
   ]
  },
  {
   "source": [
    "So now that we have the data, let's clean it up a bit. \n",
    "\n",
    "We are going to drop the Open, High, Low, and Weighted_Price columns. WE are only concerned with using \n",
    "\n",
    "Let's also drop the \"Volume\\_(BTC)\" column. This shows the amount of Bitcoin traded in that minute while the \"Volume\\_(Currency)\" shows the amount traded, but in USD. Because the rest of the data is in USD, we are going to drop the BTC column so we have standard units. \n",
    "\n",
    "Because the size of the DataFrame is ~200mb I am going to perform the cleaning operations in place so as not to waste space creating multiple versions of mostly the same data."
   ],
   "cell_type": "markdown",
   "metadata": {}
  },
  {
   "cell_type": "code",
   "execution_count": null,
   "metadata": {},
   "outputs": [],
   "source": [
    "btc_1min_df = btc_1min_df.loc[:,['Timestamp', 'Open', 'High', 'Low', 'Close', 'Volume']]"
   ]
  },
  {
   "cell_type": "code",
   "execution_count": null,
   "metadata": {},
   "outputs": [],
   "source": [
    "sns.set_theme('darkgrid')\n",
    "sns.lineplot(data=btc_1min_df, x=)"
   ]
  },
  {
   "source": [
    "As we can see there are 4.85 million rows in this dataset. Because we are going to use a sliding window approach, where we are only using the past 60 mins of data to predict the next 5, we do not need 9 years worth of historical data. So for now let's cut our data down to a 2 year period from March 2019 to "
   ],
   "cell_type": "markdown",
   "metadata": {}
  },
  {
   "cell_type": "code",
   "execution_count": 5,
   "metadata": {},
   "outputs": [
    {
     "output_type": "execute_result",
     "data": {
      "text/plain": [
       "          Timestamp      Open      High       Low     Close  Volume_(BTC)  \\\n",
       "0        1325317920      4.39      4.39      4.39      4.39      0.455581   \n",
       "1        1325317980       NaN       NaN       NaN       NaN           NaN   \n",
       "2        1325318040       NaN       NaN       NaN       NaN           NaN   \n",
       "3        1325318100       NaN       NaN       NaN       NaN           NaN   \n",
       "4        1325318160       NaN       NaN       NaN       NaN           NaN   \n",
       "...             ...       ...       ...       ...       ...           ...   \n",
       "4857372  1617148560  58714.31  58714.31  58686.00  58686.00      1.384487   \n",
       "4857373  1617148620  58683.97  58693.43  58683.97  58685.81      7.294848   \n",
       "4857374  1617148680  58693.43  58723.84  58693.43  58723.84      1.705682   \n",
       "4857375  1617148740  58742.18  58770.38  58742.18  58760.59      0.720415   \n",
       "4857376  1617148800  58767.75  58778.18  58755.97  58778.18      2.712831   \n",
       "\n",
       "         Volume_(Currency)  Weighted_Price            Datetime  \n",
       "0                 2.000000        4.390000 2011-12-31 07:52:00  \n",
       "1                      NaN             NaN 2011-12-31 07:53:00  \n",
       "2                      NaN             NaN 2011-12-31 07:54:00  \n",
       "3                      NaN             NaN 2011-12-31 07:55:00  \n",
       "4                      NaN             NaN 2011-12-31 07:56:00  \n",
       "...                    ...             ...                 ...  \n",
       "4857372       81259.372187    58692.753339 2021-03-30 23:56:00  \n",
       "4857373      428158.146640    58693.226508 2021-03-30 23:57:00  \n",
       "4857374      100117.070370    58696.198496 2021-03-30 23:58:00  \n",
       "4857375       42332.958633    58761.866202 2021-03-30 23:59:00  \n",
       "4857376      159417.751000    58764.349363 2021-03-31 00:00:00  \n",
       "\n",
       "[4857377 rows x 9 columns]"
      ],
      "text/html": "<div>\n<style scoped>\n    .dataframe tbody tr th:only-of-type {\n        vertical-align: middle;\n    }\n\n    .dataframe tbody tr th {\n        vertical-align: top;\n    }\n\n    .dataframe thead th {\n        text-align: right;\n    }\n</style>\n<table border=\"1\" class=\"dataframe\">\n  <thead>\n    <tr style=\"text-align: right;\">\n      <th></th>\n      <th>Timestamp</th>\n      <th>Open</th>\n      <th>High</th>\n      <th>Low</th>\n      <th>Close</th>\n      <th>Volume_(BTC)</th>\n      <th>Volume_(Currency)</th>\n      <th>Weighted_Price</th>\n      <th>Datetime</th>\n    </tr>\n  </thead>\n  <tbody>\n    <tr>\n      <th>0</th>\n      <td>1325317920</td>\n      <td>4.39</td>\n      <td>4.39</td>\n      <td>4.39</td>\n      <td>4.39</td>\n      <td>0.455581</td>\n      <td>2.000000</td>\n      <td>4.390000</td>\n      <td>2011-12-31 07:52:00</td>\n    </tr>\n    <tr>\n      <th>1</th>\n      <td>1325317980</td>\n      <td>NaN</td>\n      <td>NaN</td>\n      <td>NaN</td>\n      <td>NaN</td>\n      <td>NaN</td>\n      <td>NaN</td>\n      <td>NaN</td>\n      <td>2011-12-31 07:53:00</td>\n    </tr>\n    <tr>\n      <th>2</th>\n      <td>1325318040</td>\n      <td>NaN</td>\n      <td>NaN</td>\n      <td>NaN</td>\n      <td>NaN</td>\n      <td>NaN</td>\n      <td>NaN</td>\n      <td>NaN</td>\n      <td>2011-12-31 07:54:00</td>\n    </tr>\n    <tr>\n      <th>3</th>\n      <td>1325318100</td>\n      <td>NaN</td>\n      <td>NaN</td>\n      <td>NaN</td>\n      <td>NaN</td>\n      <td>NaN</td>\n      <td>NaN</td>\n      <td>NaN</td>\n      <td>2011-12-31 07:55:00</td>\n    </tr>\n    <tr>\n      <th>4</th>\n      <td>1325318160</td>\n      <td>NaN</td>\n      <td>NaN</td>\n      <td>NaN</td>\n      <td>NaN</td>\n      <td>NaN</td>\n      <td>NaN</td>\n      <td>NaN</td>\n      <td>2011-12-31 07:56:00</td>\n    </tr>\n    <tr>\n      <th>...</th>\n      <td>...</td>\n      <td>...</td>\n      <td>...</td>\n      <td>...</td>\n      <td>...</td>\n      <td>...</td>\n      <td>...</td>\n      <td>...</td>\n      <td>...</td>\n    </tr>\n    <tr>\n      <th>4857372</th>\n      <td>1617148560</td>\n      <td>58714.31</td>\n      <td>58714.31</td>\n      <td>58686.00</td>\n      <td>58686.00</td>\n      <td>1.384487</td>\n      <td>81259.372187</td>\n      <td>58692.753339</td>\n      <td>2021-03-30 23:56:00</td>\n    </tr>\n    <tr>\n      <th>4857373</th>\n      <td>1617148620</td>\n      <td>58683.97</td>\n      <td>58693.43</td>\n      <td>58683.97</td>\n      <td>58685.81</td>\n      <td>7.294848</td>\n      <td>428158.146640</td>\n      <td>58693.226508</td>\n      <td>2021-03-30 23:57:00</td>\n    </tr>\n    <tr>\n      <th>4857374</th>\n      <td>1617148680</td>\n      <td>58693.43</td>\n      <td>58723.84</td>\n      <td>58693.43</td>\n      <td>58723.84</td>\n      <td>1.705682</td>\n      <td>100117.070370</td>\n      <td>58696.198496</td>\n      <td>2021-03-30 23:58:00</td>\n    </tr>\n    <tr>\n      <th>4857375</th>\n      <td>1617148740</td>\n      <td>58742.18</td>\n      <td>58770.38</td>\n      <td>58742.18</td>\n      <td>58760.59</td>\n      <td>0.720415</td>\n      <td>42332.958633</td>\n      <td>58761.866202</td>\n      <td>2021-03-30 23:59:00</td>\n    </tr>\n    <tr>\n      <th>4857376</th>\n      <td>1617148800</td>\n      <td>58767.75</td>\n      <td>58778.18</td>\n      <td>58755.97</td>\n      <td>58778.18</td>\n      <td>2.712831</td>\n      <td>159417.751000</td>\n      <td>58764.349363</td>\n      <td>2021-03-31 00:00:00</td>\n    </tr>\n  </tbody>\n</table>\n<p>4857377 rows × 9 columns</p>\n</div>"
     },
     "metadata": {},
     "execution_count": 5
    }
   ],
   "source": [
    "btc_1min_df['Datetime'] = pd.to_datetime(btc_1min_df['Timestamp'], unit='s')\n",
    "btc_1min_df\n"
   ]
  },
  {
   "cell_type": "code",
   "execution_count": 6,
   "metadata": {},
   "outputs": [],
   "source": [
    "sns.set_theme()\n",
    "# sns.lineplot(data=btc_1min_df, x = 'Datetime', y='Weighted_Price')"
   ]
  },
  {
   "source": [
    "As we can see there has been some pretty extreme volatility in Bitcoin's price throughout its year of existence. 2021 has been a particulary spectcular year, which may have to do with factors other than price and volatility.  Because our data is dealing with such high frequency (1-minute) time intervals we are only going to use data from March 01, 2019 to March 01, 2021 "
   ],
   "cell_type": "markdown",
   "metadata": {}
  },
  {
   "cell_type": "code",
   "execution_count": 7,
   "metadata": {},
   "outputs": [],
   "source": [
    "# Only keep observations from March 1, 2019 and onwards\n",
    "start_cond = btc_1min_df_og.Datetime >= pd.Timestamp(2019,3,1) \n",
    "btc_1min_df_trim = btc_1min_df_og.loc[start_cond,:]\n",
    "# Only keep observations stricly before March 2, 2021\n",
    "end_cond = btc_1min_df_trim.Datetime < pd.Timestamp(2021,3,1)\n",
    "btc_1min_df_trim = btc_1min_df_trim.loc[end_cond,:]\n",
    "\n",
    "# Resetting index to start from 0\n",
    "btc_1min_df_trim.reset_index(drop=True, inplace=True)\n"
   ]
  },
  {
   "cell_type": "code",
   "execution_count": 10,
   "metadata": {},
   "outputs": [
    {
     "output_type": "stream",
     "name": "stdout",
     "text": [
      "<class 'pandas.core.frame.DataFrame'>\nRangeIndex: 1052640 entries, 0 to 1052639\nData columns (total 9 columns):\n #   Column             Non-Null Count    Dtype         \n---  ------             --------------    -----         \n 0   Timestamp          1052640 non-null  int64         \n 1   Open               1034973 non-null  float64       \n 2   High               1034973 non-null  float64       \n 3   Low                1034973 non-null  float64       \n 4   Close              1034973 non-null  float64       \n 5   Volume_(BTC)       1034973 non-null  float64       \n 6   Volume_(Currency)  1034973 non-null  float64       \n 7   Weighted_Price     1034973 non-null  float64       \n 8   Datetime           1052640 non-null  datetime64[ns]\ndtypes: datetime64[ns](1), float64(7), int64(1)\nmemory usage: 72.3 MB\n"
     ]
    }
   ],
   "source": [
    "btc_1min_df_trim.info()"
   ]
  },
  {
   "cell_type": "code",
   "execution_count": 11,
   "metadata": {},
   "outputs": [
    {
     "output_type": "execute_result",
     "data": {
      "text/plain": [
       "17667"
      ]
     },
     "metadata": {},
     "execution_count": 11
    }
   ],
   "source": [
    "1052640 - 1034973"
   ]
  },
  {
   "cell_type": "code",
   "execution_count": 19,
   "metadata": {},
   "outputs": [
    {
     "output_type": "execute_result",
     "data": {
      "text/plain": [
       "array([     24,      41,      44, ..., 1050613, 1051259, 1051928])"
      ]
     },
     "metadata": {},
     "execution_count": 19
    }
   ],
   "source": [
    "na_indices = pd.isnull(btc_1min_df_trim).any(1).to_numpy().nonzero()[0]\n",
    "na_indices"
   ]
  },
  {
   "cell_type": "code",
   "execution_count": 22,
   "metadata": {},
   "outputs": [
    {
     "output_type": "execute_result",
     "data": {
      "text/plain": [
       "(array([    0,     1,     2, ..., 17653, 17654, 17661]),)"
      ]
     },
     "metadata": {},
     "execution_count": 22
    }
   ],
   "source": [
    "np.where(np.diff(na_indices) <= 120)"
   ]
  },
  {
   "cell_type": "code",
   "execution_count": 9,
   "metadata": {},
   "outputs": [],
   "source": [
    "# Checking if we are missing a minute time interval\n",
    "# (btc_1min_df.loc[1034972, 'Timestamp'] - btc_1min_df.loc[0,'Timestamp']) / 60"
   ]
  },
  {
   "cell_type": "code",
   "execution_count": null,
   "metadata": {},
   "outputs": [],
   "source": []
  },
  {
   "source": [
    "We will use an LSTM model because after reviewing countless academic papers, they seemed to commonly have the highest prediction accuracy, as well as the lowest measure of error. \n",
    "\n",
    "What is LSTM?\n",
    "\n",
    "LSTM stands for Long Short-Term Memory. It is a type of Reccurent Neural Network (RNN). The thing with traditional neural nets is that they don't use the state/reasoning from an earlier layer to inform them about a later one. However RNN's suffer from short-term memory, as their gradient are ventually either lost during back-propagation or eventually explode. This is why LSTM is required, as it updates the cell's state using the culmination of the hidden state from previous cells. Thus a longer memory is produced. (explain more on this section)\n",
    "\n",
    "When analyzing an asset such as Bitcoin, we want to use the knowledge we have of previous timeframes to make a decision about the upcoming ones. If you want a more detailed understanding of LSTM model, I suggest [this article](https://colah.github.io/posts/2015-08-Understanding-LSTMs/) by Chrisopher Olah.\n",
    "\n",
    "  Thus we will be using an RNN. After reviewing the some of the most recent academic literature on cryptocurrency price prediction (see [here](https://www.semanticscholar.org/paper/Bitcoin-price-prediction-using-machine-learning%3A-An-Chen-Li/cec3d533193d922b73b96e8556198f113e1de934), [here](https://www.sciencedirect.com/science/article/pii/S2405918821000027), [here](https://link.springer.com/content/pdf/10.1007/s00521-020-05129-6.pdf), and [here](https://arxiv.org/ftp/arxiv/papers/2102/2102.05448.pdf)) they all have the best results using LSTM with relatively high dimensions and frequency. \n",
    " \n",
    "The features I will be using are \n",
    "\n"
   ],
   "cell_type": "markdown",
   "metadata": {}
  },
  {
   "cell_type": "code",
   "execution_count": null,
   "metadata": {},
   "outputs": [],
   "source": [
    "def mean_absolute_percentage_error(y_true, y_pred): \n",
    "    y_true, y_pred = np.array(y_true), np.array(y_pred)\n",
    "    return np.mean(np.abs((y_true - y_pred) / y_true)) * 100"
   ]
  }
 ]
}